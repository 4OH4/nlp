{
 "cells": [
  {
   "cell_type": "markdown",
   "id": "4ca2e314-02ca-4226-bb3d-da1b266251ad",
   "metadata": {},
   "source": [
    "# NLP analysis of text using OpenAI API and GPT-3.5"
   ]
  },
  {
   "cell_type": "code",
   "execution_count": 46,
   "id": "bb5e4b1d-b55a-495f-9a07-8d5b686ef3d8",
   "metadata": {},
   "outputs": [],
   "source": [
    "import os\n",
    "import pandas as pd\n",
    "import openai\n",
    "import requests\n",
    "from tqdm import tqdm\n",
    "import time\n",
    "\n",
    "# Set up the OpenAI API\n",
    "GPT_API_URL = \"https://api.openai.com/v1/chat/completions\"\n",
    "\n",
    "# Read API key in from file\n",
    "open_api_key_filepath = \"secrets.txt\"\n",
    "try:\n",
    "    with open(open_api_key_filepath, 'r') as file:\n",
    "        file_contents = file.read()\n",
    "        # print(file_contents)\n",
    "    openai.api_key = file_contents\n",
    "except FileNotFoundError:\n",
    "    print(\"Secrets file not found.\")\n",
    "except Exception as e:\n",
    "    print(f\"An error occurred: {e}\")"
   ]
  },
  {
   "cell_type": "code",
   "execution_count": null,
   "id": "86984e63-6dcc-4021-8e02-96ae415a8ca0",
   "metadata": {},
   "outputs": [],
   "source": []
  },
  {
   "cell_type": "markdown",
   "id": "ece96889-1316-45c3-b6b3-36e1902254d3",
   "metadata": {},
   "source": [
    "### Datasets - positive and negative customer interactions"
   ]
  },
  {
   "cell_type": "code",
   "execution_count": 43,
   "id": "2db3e13c-b906-4083-8fba-d60621b974bf",
   "metadata": {},
   "outputs": [
    {
     "data": {
      "text/plain": [
       "\"[CUSTOMER]: Hey, I initiated a return for an item I ordered. But I haven't had anyone coming to my place to pick it up nor any further notifications on it. What should I do?\\n[AGENT]: Hi [CUSTOMER]. Thanks you for contacting us. Seems like you have selected your preferred return shipping method as Self-return. If you cose it by mistake and what to change the method, you can do it in our Returns Support Center.\\n[AGENT]: You can also visit our Returns and Replacements to know more.\\n[CUSTOMER]: Oh, my bad! Can you please change it for me?\\n[AGENT]: Sure, [CUSTOMER]. The process will take two days. Is that okay with you?\\n[CUSTOMER]: Yeah, I'm good.\""
      ]
     },
     "execution_count": 43,
     "metadata": {},
     "output_type": "execute_result"
    }
   ],
   "source": [
    "conversation1 = \"\"\"[CUSTOMER]: Hey, I initiated a return for an item I ordered. But I haven't had anyone coming to my place to pick it up nor any further notifications on it. What should I do?\n",
    "[AGENT]: Hi [CUSTOMER]. Thanks you for contacting us. Seems like you have selected your preferred return shipping method as Self-return. If you chose it by mistake and what to change the method, you can do it in our Returns Support Center.\n",
    "[AGENT]: You can also visit our Returns and Replacements to know more.\n",
    "[CUSTOMER]: Oh, my bad! Can you please change it for me?\n",
    "[AGENT]: Sure, [CUSTOMER]. The process will take two days. Is that okay with you?\n",
    "[CUSTOMER]: Yeah, I'm good.\"\"\"\n",
    "conversation1"
   ]
  },
  {
   "cell_type": "code",
   "execution_count": 44,
   "id": "d57960e2-c65f-444e-b76f-60d1186a8620",
   "metadata": {},
   "outputs": [
    {
     "data": {
      "text/plain": [
       "\"[CUSTOMER]: Hey, I initiated a return for an item I ordered. But I haven't had anyone coming to my place to pick it up nor any further notifications on it. What should I do?\\n[AGENT]: Hi [CUSTOMER]. Thanks you for contacting us. Seems like you have selected your preferred return shipping method as Self-return. If you cose it by mistake and what to change the method, you can do it in our Returns Support Center.\\n[AGENT]: You can also visit our Returns and Replacements to know more.\\n[CUSTOMER]: Oh, that's really confusing. How was I supposed to know that?\\n[AGENT]: If it would be helpful, I could change that for you now?\\n[CUSTOMER]: I suppose so, but you should make that clearer on the website.\""
      ]
     },
     "execution_count": 44,
     "metadata": {},
     "output_type": "execute_result"
    }
   ],
   "source": [
    "conversation2 = \"\"\"[CUSTOMER]: Hey, I initiated a return for an item I ordered. But I haven't had anyone coming to my place to pick it up nor any further notifications on it. What should I do?\n",
    "[AGENT]: Hi [CUSTOMER]. Thanks you for contacting us. Seems like you have selected your preferred return shipping method as Self-return. If you chose it by mistake and what to change the method, you can do it in our Returns Support Center.\n",
    "[AGENT]: You can also visit our Returns and Replacements to know more.\n",
    "[CUSTOMER]: Oh, that's really confusing. How was I supposed to know that?\n",
    "[AGENT]: If it would be helpful, I could change that for you now?\n",
    "[CUSTOMER]: I suppose so, but you should make that clearer on the website.\"\"\"\n",
    "conversation2"
   ]
  },
  {
   "cell_type": "code",
   "execution_count": null,
   "id": "78327ca0-ce7b-4f91-9143-a4f0e0f2e347",
   "metadata": {},
   "outputs": [],
   "source": []
  },
  {
   "cell_type": "markdown",
   "id": "fcfde0a4-2b64-4d91-931c-5a4bbd854972",
   "metadata": {},
   "source": [
    "### Analyse for sentiment"
   ]
  },
  {
   "cell_type": "code",
   "execution_count": 36,
   "id": "5186f266-dc17-49c9-b328-0ea34b1883fc",
   "metadata": {},
   "outputs": [],
   "source": [
    "def analyze_conversation_sentiment(conversation):\n",
    "    retries = 3\n",
    "    sentiment = None\n",
    "\n",
    "    while retries > 0:\n",
    "        messages = [\n",
    "            {\"role\": \"system\", \"content\": \"You are an AI language model trained to analyze and detect the sentiment of customer service conversations between [AGENT] and [CUSTOMER].\"},\n",
    "            {\"role\": \"user\", \"content\": f\"Analyze the following conversation and determine if the [CUSTOMER] sentiment is: positive or negative or neutral. Return only a single word, either POSITIVE or NEGATIVE or NEUTRAL: {conversation}\"}\n",
    "        ]\n",
    "\n",
    "        completion = openai.ChatCompletion.create(\n",
    "            model=\"gpt-3.5-turbo\",\n",
    "            messages=messages,\n",
    "            max_tokens=3,\n",
    "            n=1,\n",
    "            stop=None,\n",
    "            temperature=0\n",
    "        )\n",
    "\n",
    "        response_text = completion.choices[0].message.content\n",
    "        print(response_text)\n",
    "        if response_text in [\"POSITIVE\", \"NEGATIVE\", \"NEUTRAL\"]:\n",
    "            sentiment = response_text\n",
    "            break\n",
    "        else:\n",
    "            retries -= 1\n",
    "            time.sleep(1)\n",
    "    else:\n",
    "        sentiment = \"cannot determine sentiment\"\n",
    "\n",
    "    retries = 3\n",
    "   \n",
    "    # add a delay of 4 seconds between requests to avoid hitting the openai free tier API call rate limit. Otherwise, you can try a shorter delay but may risk overloading the openAI API and hitting an error\n",
    "    # time.sleep(4)\n",
    "\n",
    "    return sentiment"
   ]
  },
  {
   "cell_type": "code",
   "execution_count": 26,
   "id": "aa5f951d-12d7-4573-945d-4ce59b1d5d41",
   "metadata": {},
   "outputs": [
    {
     "name": "stdout",
     "output_type": "stream",
     "text": [
      "POSITIVE\n"
     ]
    },
    {
     "data": {
      "text/plain": [
       "'POSITIVE'"
      ]
     },
     "execution_count": 26,
     "metadata": {},
     "output_type": "execute_result"
    }
   ],
   "source": [
    "analyze_conversation_sentiment(conversation1)"
   ]
  },
  {
   "cell_type": "code",
   "execution_count": 38,
   "id": "2d301913-86da-468a-98a3-afb8d89b3543",
   "metadata": {},
   "outputs": [
    {
     "name": "stdout",
     "output_type": "stream",
     "text": [
      "NEGATIVE\n"
     ]
    },
    {
     "data": {
      "text/plain": [
       "'NEGATIVE'"
      ]
     },
     "execution_count": 38,
     "metadata": {},
     "output_type": "execute_result"
    }
   ],
   "source": [
    "analyze_conversation_sentiment(conversation2)"
   ]
  },
  {
   "cell_type": "code",
   "execution_count": null,
   "id": "4f151a71-d5a4-4028-8b0b-45c82368b243",
   "metadata": {},
   "outputs": [],
   "source": []
  },
  {
   "cell_type": "markdown",
   "id": "738ffd36-8e17-4785-b5c0-cd783fcd1922",
   "metadata": {},
   "source": [
    "### Analyse for satisfactory resolution"
   ]
  },
  {
   "cell_type": "code",
   "execution_count": 28,
   "id": "4c5fd380-ed34-4910-a0d6-1b03500fb901",
   "metadata": {},
   "outputs": [],
   "source": [
    "def analyze_conversation_resolution(conversation):\n",
    "    retries = 3\n",
    "    sentiment = None\n",
    "\n",
    "    while retries > 0:\n",
    "        messages = [\n",
    "            {\"role\": \"system\", \"content\": \"You are an AI language model trained to analyze and detect if customer service conversations between [AGENT] and [CUSTOMER] have lead to a satifactory resolution for [CUSTOMER].\"},\n",
    "            {\"role\": \"user\", \"content\": f\"Analyze the following conversation and determine if the situation has been: resolved or unresolved. Return only a single word, either RESOLVED or UNRESOLVED: {conversation}\"}\n",
    "        ]\n",
    "\n",
    "        completion = openai.ChatCompletion.create(\n",
    "            model=\"gpt-3.5-turbo\",\n",
    "            messages=messages,\n",
    "            max_tokens=3,\n",
    "            n=1,\n",
    "            stop=None,\n",
    "            temperature=0\n",
    "        )\n",
    "\n",
    "        response_text = completion.choices[0].message.content\n",
    "        print(response_text)\n",
    "        if response_text in [\"RESOLVED\", \"UNRESOLVED\"]:\n",
    "            sentiment = response_text\n",
    "            break\n",
    "        else:\n",
    "            retries -= 1\n",
    "            time.sleep(1)\n",
    "    else:\n",
    "        sentiment = \"cannot determine sentiment\"\n",
    "\n",
    "    retries = 3\n",
    "   \n",
    "    # add a delay of 4 seconds between requests to avoid hitting the openai free tier API call rate limit. Otherwise, you can try a shorter delay but may risk overloading the openAI API and hitting an error\n",
    "    # time.sleep(4)\n",
    "\n",
    "    return sentiment"
   ]
  },
  {
   "cell_type": "code",
   "execution_count": 34,
   "id": "bf8cf210-29fd-46f5-8e5b-e4bca414d37b",
   "metadata": {},
   "outputs": [
    {
     "name": "stdout",
     "output_type": "stream",
     "text": [
      "RESOLVED\n"
     ]
    },
    {
     "data": {
      "text/plain": [
       "'RESOLVED'"
      ]
     },
     "execution_count": 34,
     "metadata": {},
     "output_type": "execute_result"
    }
   ],
   "source": [
    "analyze_conversation_resolution(conversation1)"
   ]
  },
  {
   "cell_type": "code",
   "execution_count": 45,
   "id": "422f79f3-533c-4833-a961-abb6fe6b8cd4",
   "metadata": {},
   "outputs": [
    {
     "name": "stdout",
     "output_type": "stream",
     "text": [
      "RESOLVED\n"
     ]
    },
    {
     "data": {
      "text/plain": [
       "'RESOLVED'"
      ]
     },
     "execution_count": 45,
     "metadata": {},
     "output_type": "execute_result"
    }
   ],
   "source": [
    "analyze_conversation_resolution(conversation2)"
   ]
  },
  {
   "cell_type": "code",
   "execution_count": null,
   "id": "7911eb45-a2d5-48da-98b6-588e0b9eb86a",
   "metadata": {},
   "outputs": [],
   "source": []
  }
 ],
 "metadata": {
  "kernelspec": {
   "display_name": "Python 3 (ipykernel)",
   "language": "python",
   "name": "python3"
  },
  "language_info": {
   "codemirror_mode": {
    "name": "ipython",
    "version": 3
   },
   "file_extension": ".py",
   "mimetype": "text/x-python",
   "name": "python",
   "nbconvert_exporter": "python",
   "pygments_lexer": "ipython3",
   "version": "3.9.17"
  }
 },
 "nbformat": 4,
 "nbformat_minor": 5
}
